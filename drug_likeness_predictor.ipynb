{
  "nbformat": 4,
  "nbformat_minor": 0,
  "metadata": {
    "colab": {
      "provenance": []
    },
    "kernelspec": {
      "name": "python3",
      "display_name": "Python 3"
    },
    "language_info": {
      "name": "python"
    }
  },
  "cells": [
    {
      "cell_type": "code",
      "source": [],
      "metadata": {
        "id": "fU3AHQLRfChv"
      },
      "execution_count": null,
      "outputs": []
    },
    {
      "cell_type": "code",
      "execution_count": 14,
      "metadata": {
        "colab": {
          "base_uri": "https://localhost:8080/"
        },
        "id": "S29R0ljNe4sK",
        "outputId": "b0bce426-5861-4489-d43b-1eba88ef94e5"
      },
      "outputs": [
        {
          "output_type": "stream",
          "name": "stdout",
          "text": [
            "Requirement already satisfied: rdkit-pypi in /usr/local/lib/python3.11/dist-packages (2022.9.5)\n",
            "Requirement already satisfied: numpy in /usr/local/lib/python3.11/dist-packages (from rdkit-pypi) (2.0.2)\n",
            "Requirement already satisfied: Pillow in /usr/local/lib/python3.11/dist-packages (from rdkit-pypi) (11.2.1)\n"
          ]
        }
      ],
      "source": [
        "# prompt: pip install rdkit\n",
        "\n",
        "!pip install rdkit-pypi"
      ]
    },
    {
      "cell_type": "code",
      "source": [
        "from rdkit import Chem\n",
        "from rdkit.Chem import Descriptors\n",
        "\n",
        "def lipinski_check(smiles):\n",
        "    mol = Chem.MolFromSmiles(smiles)\n",
        "    if mol is None:\n",
        "        return \"Invalid SMILES\"\n",
        "\n",
        "    mw = Descriptors.MolWt(mol)\n",
        "    logp = Descriptors.MolLogP(mol)\n",
        "    h_donors = Descriptors.NumHDonors(mol)\n",
        "    h_acceptors = Descriptors.NumHAcceptors(mol)\n",
        "\n",
        "    print(f\"Molecular Weight: {mw}\")\n",
        "    print(f\"LogP: {logp}\")\n",
        "    print(f\"H-Bond Donors: {h_donors}\")\n",
        "    print(f\"H-Bond Acceptors: {h_acceptors}\")\n",
        "\n",
        "    if (mw <= 500 and logp <= 5 and h_donors <= 5 and h_acceptors <= 10):\n",
        "        return \"Result: Drug-like (Lipinski compliant)\"\n",
        "    else:\n",
        "        return \"Result: Not drug-like (Lipinski violated)\"\n",
        "lipinski_check(\"CC(=O)OC1=CC=CC=C1C(=O)O  \")\n",
        "\n"
      ],
      "metadata": {
        "colab": {
          "base_uri": "https://localhost:8080/",
          "height": 105
        },
        "id": "sfo00Xbni96Z",
        "outputId": "f00836db-db7b-45b6-fe05-301af530a7d4"
      },
      "execution_count": 15,
      "outputs": [
        {
          "output_type": "stream",
          "name": "stdout",
          "text": [
            "Molecular Weight: 180.15899999999996\n",
            "LogP: 1.3101\n",
            "H-Bond Donors: 1\n",
            "H-Bond Acceptors: 3\n"
          ]
        },
        {
          "output_type": "execute_result",
          "data": {
            "text/plain": [
              "'Result: Drug-like (Lipinski compliant)'"
            ],
            "application/vnd.google.colaboratory.intrinsic+json": {
              "type": "string"
            }
          },
          "metadata": {},
          "execution_count": 15
        }
      ]
    }
  ]
}